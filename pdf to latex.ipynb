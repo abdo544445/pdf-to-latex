{
 "cells": [
  {
   "cell_type": "code",
   "execution_count": null,
   "metadata": {},
   "outputs": [],
   "source": [
    "!pip install PyMuPDF pytesseract\n",
    "# Import necessary libraries\n",
    "import fitz  # PyMuPDF\n",
    "import pytesseract\n",
    "from pytesseract import Output\n",
    "\n",
    "# Function to convert PDF to text\n",
    "def pdf_to_text(pdf_path):\n",
    "    doc = fitz.open(pdf_path)\n",
    "    text = \"\"\n",
    "    for page_num in range(len(doc)):\n",
    "        page = doc.load_page(page_num)\n",
    "        text += page.get_text()\n",
    "    return text\n",
    "\n",
    "# Function to convert PDF to LaTeX (basic example)\n",
    "def pdf_to_latex(pdf_path):\n",
    "    doc = fitz.open(pdf_path)\n",
    "    latex = \"\"\n",
    "    for page_num in range(len(doc)):\n",
    "        page = doc.load_page(page_num)\n",
    "        text = page.get_text()\n",
    "        latex += \"\\\\begin{document}\\n\" + text + \"\\n\\\\end{document}\\n\"\n",
    "    return latex\n",
    "\n",
    "# Function to convert PDF to LaTeX with OCR\n",
    "def pdf_to_latex_ocr(pdf_path):\n",
    "    doc = fitz.open(pdf_path)\n",
    "    latex = \"\"\n",
    "    for page_num in range(len(doc)):\n",
    "        page = doc.load_page(page_num)\n",
    "        text = page.get_text(output=\"text\")"
   ]
  },
  {
   "cell_type": "code",
   "execution_count": null,
   "metadata": {},
   "outputs": [],
   "source": [
    "# Input PDF file path\n",
    "pdf_path = 'path/to/your/file.pdf'\n",
    "\n",
    "# Convert PDF to text\n",
    "text_output = pdf_to_text(pdf_path)\n",
    "print(\"Text Output:\\n\", text_output)\n",
    "\n",
    "# Convert PDF to LaTeX\n",
    "latex_output = pdf_to_latex(pdf_path)\n",
    "print(\"LaTeX Output:\\n\", latex_output)"
   ]
  },
  {
   "cell_type": "markdown",
   "metadata": {},
   "source": []
  },
  {
   "cell_type": "code",
   "execution_count": null,
   "metadata": {},
   "outputs": [],
   "source": [
    "# Cell 4: Save LaTeX output to a file\n",
    "with open('output_latex.tex', 'w') as latex_file:\n",
    "    latex_file.write(latex_output)\n",
    "print(\"LaTeX output saved to output_latex.tex\")"
   ]
  }
 ],
 "metadata": {
  "language_info": {
   "name": "python"
  }
 },
 "nbformat": 4,
 "nbformat_minor": 2
}
